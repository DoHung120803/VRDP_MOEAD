{
 "cells": [
  {
   "cell_type": "markdown",
   "metadata": {},
   "source": [
    "# Đọc input đầu vào"
   ]
  },
  {
   "cell_type": "code",
   "execution_count": null,
   "metadata": {},
   "outputs": [
    {
     "name": "stdout",
     "output_type": "stream",
     "text": [
      "             x          y  demand  eet  open  close   elt  servicetime  \\\n",
      "0    29.166667  29.166667       0    0     0   1000  1020            5   \n",
      "1    34.166667  40.833333      10    0     0    974   983            5   \n",
      "2    29.166667  14.166667       7    0     0    972   993            5   \n",
      "3    45.833333  37.500000      13    0     0    967   984            5   \n",
      "4    12.500000  25.000000      26    0     0    969   985            5   \n",
      "..         ...        ...     ...  ...   ...    ...   ...          ...   \n",
      "96   47.500000  24.166667      18  624   641    734   751            5   \n",
      "97   37.500000  54.166667       9  559   581    666   688            5   \n",
      "98   44.166667  10.000000       6  574   585    692   703            5   \n",
      "99   21.666667  29.166667      15  748   755    920   927            5   \n",
      "100  30.833333  46.666667       5  764   788    968   992            5   \n",
      "\n",
      "     drone_serve  \n",
      "0              1  \n",
      "1              0  \n",
      "2              1  \n",
      "3              0  \n",
      "4              0  \n",
      "..           ...  \n",
      "96             0  \n",
      "97             1  \n",
      "98             1  \n",
      "99             0  \n",
      "100            1  \n",
      "\n",
      "[101 rows x 9 columns]\n"
     ]
    }
   ],
   "source": [
    "import pandas as pd\n",
    "\n",
    "# Đọc dữ liệu từ file Excel\n",
    "# file_path = \"C://Users//Computer//AppData//Local//Temp//Rar$DIa0.358//h100r202.csv\"  # Thay bằng đường dẫn file thực tế\n",
    "file_path = \"C://Users//hungdm129//Documents//Zalo Received Files//Data_VRP_Drone//h100r202.csv\"  # Thay bằng đường dẫn file thực tế\n",
    "df = pd.read_csv(file_path)\n",
    "\n",
    "# Lưu từng cột vào danh sách riêng biệt\n",
    "x_coords = df[\"x\"].tolist()  # Danh sách tọa độ x\n",
    "y_coords = df[\"y\"].tolist()  # Danh sách tọa độ y\n",
    "demands = df[\"demand\"].tolist()  # Nhu cầu hàng hóa\n",
    "eet = df[\"eet\"].tolist()  # Earliest End Time\n",
    "open_time = df[\"open\"].tolist()  # Giờ mở cửa\n",
    "close_time = df[\"close\"].tolist()  # Giờ đóng cửa\n",
    "elt = df[\"elt\"].tolist()  # Earliest Latest Time\n",
    "service_time = df[\"servicetime\"].tolist()  # Thời gian phục vụ\n",
    "drone_serve = df[\"drone_serve\"].tolist()  # Cờ có thể dùng drone\n",
    "\n",
    "time_windows = [list(item) for item in zip(eet, open_time, close_time, elt)]\n",
    "\n",
    "\n"
   ]
  },
  {
   "cell_type": "markdown",
   "metadata": {},
   "source": [
    "# Tính toán ma trận khoảng cách"
   ]
  },
  {
   "cell_type": "code",
   "execution_count": 2,
   "metadata": {},
   "outputs": [
    {
     "name": "stdout",
     "output_type": "stream",
     "text": [
      "[[ 0.         12.69295517 15.         ... 24.33846978  7.5\n",
      "  17.57918592]\n",
      " [12.69295517  0.         27.13136765 ... 32.41441723 17.09857044\n",
      "   6.71854813]\n",
      " [15.         27.13136765  0.         ... 15.56795141 16.77050983\n",
      "  32.54270698]\n",
      " ...\n",
      " [24.33846978 32.41441723 15.56795141 ...  0.         29.55691309\n",
      "  39.01566637]\n",
      " [ 7.5        17.09857044 16.77050983 ... 29.55691309  0.\n",
      "  19.75544932]\n",
      " [17.57918592  6.71854813 32.54270698 ... 39.01566637 19.75544932\n",
      "   0.        ]]\n"
     ]
    }
   ],
   "source": [
    "from math import sqrt\n",
    "import numpy as np\n",
    "\n",
    "# Số lượng điểm (depot + khách hàng)\n",
    "n_points = len(x_coords)\n",
    "\n",
    "# Tính ma trận khoảng cách\n",
    "def calculate_distance_matrix(x_coords, y_coords):\n",
    "    dist_matrix = np.zeros((n_points, n_points))\n",
    "    for i in range(n_points):\n",
    "        for j in range(n_points):\n",
    "            dist_matrix[i][j] = sqrt((x_coords[i] - x_coords[j])**2 + (y_coords[i] - y_coords[j])**2)\n",
    "    return dist_matrix\n",
    "\n",
    "dist_matrix = calculate_distance_matrix(x_coords, y_coords)\n",
    "\n",
    "print(dist_matrix)"
   ]
  },
  {
   "cell_type": "markdown",
   "metadata": {},
   "source": [
    "# Khởi tạo NST"
   ]
  },
  {
   "cell_type": "code",
   "execution_count": 3,
   "metadata": {},
   "outputs": [
    {
     "name": "stdout",
     "output_type": "stream",
     "text": [
      "Tuyến xe tải: [0, 15, 19, 30, 35, 14, 0, 46, 95, 62, 50, 20, 0, 73, 3, 66, 98, 91, 0, 44, 97, 7, 17, 25, 0, 32, 60, 40, 79, 68, 0, 78, 57, 12, 55, 29, 0, 41, 74, 43, 90, 77, 0, 80, 70, 69, 45, 22, 0, 51, 27, 76, 100, 5, 0, 85, 49, 71, 82, 93, 0, 28, 1, 47, 9, 37, 0, 67, 99, 4, 81, 31, 0, 13, 16, 38, 96, 8, 0, 92, 42, 59, 24, 21, 0, 75, 83, 10, 58, 6, 0, 39, 88, 65, 94, 64, 0, 23, 72, 34, 56, 87, 0, 48, 54, 36, 86, 89, 0, 2, 26, 84, 53, 11, 0, 52, 63, 61, 33, 18, 0]\n",
      "Phân công drone: [1, 0, 1, 0, 0, 1, 0, 0, 0, 0, 0, 0, 0, 1, 1, 0, 1, 0, 0, 0, 0, 1, 0, 1, 0, 0, 1, 0, 0, 0, 0, 0, 1, 1, 0, 0, 0, 0, 0, 1, 0, 1, 1, 0, 0, 0, 0, 0, 0, 1, 0, 0, 0, 1, 0, 1, 0, 0, 1, 1, 0, 0, 1, 1, 0, 0, 1, 1, 0, 0, 1, 1, 1, 0, 1, 0, 0, 1, 0, 0, 1, 1, 1, 0, 0, 1, 1, 0, 0, 0, 0, 0, 0, 0, 0, 0, 0, 1, 1, 0, 1]\n"
     ]
    }
   ],
   "source": [
    "from chromosome_utils import initialize_chromosome, Chromosome\n",
    "\n",
    "# Thông số\n",
    "n_trucks = 20  # Số xe tải (mỗi xe có 1 drone)\n",
    "\n",
    "if n_trucks > n_points:\n",
    "    raise Exception(\"Số lượng xe tải không được lớn hơn số lượng điểm\")\n",
    "\n",
    "chromosome = initialize_chromosome(n_points, n_trucks, drone_serve)\n",
    "print(\"Tuyến xe tải:\", chromosome.truck_routes)\n",
    "print(\"Phân công drone:\", chromosome.drone_assignment)"
   ]
  },
  {
   "cell_type": "markdown",
   "metadata": {},
   "source": [
    "# validate NST"
   ]
  },
  {
   "cell_type": "code",
   "execution_count": 4,
   "metadata": {},
   "outputs": [
    {
     "name": "stdout",
     "output_type": "stream",
     "text": [
      "Lỗi (5)/(6): Có xe tải không được sử dụng hoặc sử dụng nhiều lần (Số 0 (11) không khớp với n_trucks + 1 (21))\n",
      "NST hợp lệ!\n"
     ]
    }
   ],
   "source": [
    "from validation import is_valid_chromosome, ERROR_TYPES\n",
    "\n",
    "chromosome.truck_routes = [0, 7, 51, 76, 81, 74, 34, 69, 14, 21, 11, 35, 52, 90, 57, 19, 47, 60, 55, 25, 87, 63, 0, 62, 33, 80, 5, 46, 48, 82, 83, 61, 45, 0, 4, 93, 58, 40, 28, 15, 22, 53, 8, 97, 0, 64, 67, 9, 84, 77, 91, 3, 32, 23, 86, 0, 50, 70, 71, 56, 96, 95, 17, 85, 73, 13, 0, 12, 20, 72, 49, 59, 89, 79, 2, 78, 31, 0, 94, 43, 27, 24, 65, 18, 75, 26, 10, 6, 0, 99, 39, 37,  100, 66, 30, 41, 42, 16, 0, 98, 44, 1, 54, 38, 68, 36, 88,0, 92,29, 0]\n",
    "\n",
    "if is_valid_chromosome(chromosome, n_points, n_trucks, demands, Q=1000):\n",
    "    print(\"NST hợp lệ!\")\n",
    "\n",
    "# start = 0\n",
    "# routes = []\n",
    "# for i in range(1, len(chromosome.truck_routes)):\n",
    "#         if chromosome.truck_routes[i] == 0:\n",
    "#             routes.append(chromosome.truck_routes[start:i + 1])\n",
    "#             start = i\n",
    "# if not routes:\n",
    "#     routes.append(chromosome.truck_routes)\n",
    "# print(routes)\n",
    "# for route in routes:\n",
    "#     print(route[len(route)-2])\n",
    "#     print(route)"
   ]
  },
  {
   "cell_type": "markdown",
   "metadata": {},
   "source": [
    "# tính toán các đối tượng"
   ]
  },
  {
   "cell_type": "code",
   "execution_count": 5,
   "metadata": {},
   "outputs": [
    {
     "name": "stdout",
     "output_type": "stream",
     "text": [
      "True\n",
      "Makespan: 884.9113600162942\n",
      "Truck distance: 2171.3907232050497\n",
      "Drone distance: 1482.949796530549\n",
      "Average satisfaction: 0.3376111000020717\n"
     ]
    }
   ],
   "source": [
    "from evaluate import evaluate_objectives\n",
    "\n",
    "makespan, truck_distance, drone_distance, avg_satisfaction = evaluate_objectives(\n",
    "    chromosome, x_coords, y_coords, 40, 80, service_time, n_trucks, time_windows\n",
    ")\n",
    "\n",
    "print(\"Makespan:\", makespan)\n",
    "print(\"Truck distance:\", truck_distance)\n",
    "print(\"Drone distance:\", drone_distance)\n",
    "print(\"Average satisfaction:\", avg_satisfaction)\n"
   ]
  },
  {
   "cell_type": "markdown",
   "metadata": {},
   "source": [
    "# local search repair\n"
   ]
  },
  {
   "cell_type": "code",
   "execution_count": 6,
   "metadata": {},
   "outputs": [
    {
     "name": "stdout",
     "output_type": "stream",
     "text": [
      "Lỗi (5)/(6): Có xe tải không được sử dụng hoặc sử dụng nhiều lần (Số 0 (11) không khớp với n_trucks + 1 (21))\n",
      "Chromosome không hợp lệ: WRONG_TRUCK_COUNT. Đang sửa bằng local search...\n",
      "Lỗi (5)/(6): Có xe tải không được sử dụng hoặc sử dụng nhiều lần (Số 0 (11) không khớp với n_trucks + 1 (21))\n",
      "Đang sửa lỗi: WRONG_TRUCK_COUNT\n",
      "Chromosome sau khi sửa: [0, 7, 51, 76, 81, 74, 0, 34, 69, 14, 21, 11, 0, 35, 52, 90, 57, 19, 0, 47, 60, 55, 25, 87, 0, 63, 62, 33, 80, 5, 0, 46, 48, 82, 83, 61, 0, 45, 4, 93, 58, 40, 0, 28, 15, 22, 53, 8, 0, 97, 64, 67, 9, 84, 0, 77, 91, 3, 32, 23, 0, 86, 50, 70, 71, 56, 0, 96, 95, 17, 85, 73, 0, 13, 12, 20, 72, 49, 0, 59, 89, 79, 2, 78, 0, 31, 94, 43, 27, 24, 0, 65, 18, 75, 26, 10, 0, 6, 99, 39, 37, 100, 0, 66, 30, 41, 42, 16, 0, 98, 44, 1, 54, 38, 0, 68, 36, 88, 92, 29, 0]\n",
      "Chromosome đã được sửa thành hợp lệ!\n",
      "[0, 7, 51, 76, 81, 74, 0, 34, 69, 14, 21, 11, 0, 35, 52, 90, 57, 19, 0, 47, 60, 55, 25, 87, 0, 63, 62, 33, 80, 5, 0, 46, 48, 82, 83, 61, 0, 45, 4, 93, 58, 40, 0, 28, 15, 22, 53, 8, 0, 97, 64, 67, 9, 84, 0, 77, 91, 3, 32, 23, 0, 86, 50, 70, 71, 56, 0, 96, 95, 17, 85, 73, 0, 13, 12, 20, 72, 49, 0, 59, 89, 79, 2, 78, 0, 31, 94, 43, 27, 24, 0, 65, 18, 75, 26, 10, 0, 6, 99, 39, 37, 100, 0, 66, 30, 41, 42, 16, 0, 98, 44, 1, 54, 38, 0, 68, 36, 88, 92, 29, 0]\n"
     ]
    }
   ],
   "source": [
    "from local_search_repair import local_search_repair\n",
    "\n",
    "valid, error_type = is_valid_chromosome(chromosome, n_points, n_trucks, demands, 1000)\n",
    "if not valid:\n",
    "    print(f\"Chromosome không hợp lệ: {ERROR_TYPES[error_type]}. Đang sửa bằng local search...\")\n",
    "    chromosome = local_search_repair(chromosome, n_points, n_trucks, demands, 1000)\n",
    "    print(\"Chromosome sau khi sửa:\", chromosome.truck_routes)\n",
    "    valid, error_type = is_valid_chromosome(chromosome, n_points, n_trucks, demands, 1000)\n",
    "    if valid:\n",
    "        print(\"Chromosome đã được sửa thành hợp lệ!\")\n",
    "        print(chromosome.truck_routes)\n",
    "    else:\n",
    "        print(f\"Chromosome không hợp lệ: {ERROR_TYPES[error_type]}\")\n",
    "else:\n",
    "    print(\"Chromosome hợp lệ!\")"
   ]
  },
  {
   "cell_type": "markdown",
   "metadata": {},
   "source": [
    "# MOEA/D"
   ]
  },
  {
   "cell_type": "code",
   "execution_count": 7,
   "metadata": {},
   "outputs": [],
   "source": [
    "# Order Crossover (OX)\n",
    "def order_crossover(parent1, parent2):\n",
    "    customers1 = [x for x in parent1.truck_routes if x != 0]\n",
    "    customers2 = [x for x in parent2.truck_routes if x != 0]\n",
    "    size = len(customers1)\n",
    "    start, end = sorted([random.randint(0, size - 1) for _ in range(2)])\n",
    "    \n",
    "    child_customers = [-1] * size\n",
    "    for i in range(start, end + 1):\n",
    "        child_customers[i] = customers1[i]\n",
    "    \n",
    "    remaining = [x for x in customers2 if x not in child_customers]\n",
    "    j = 0\n",
    "    for i in range(size):\n",
    "        if child_customers[i] == -1:\n",
    "            child_customers[i] = remaining[j]\n",
    "            j += 1\n",
    "    \n",
    "    truck_routes = [0]\n",
    "    n_trucks = parent1.truck_routes.count(0) - 1\n",
    "    customers_per_truck = size // n_trucks\n",
    "    for i in range(n_trucks - 1):\n",
    "        truck_routes.extend(child_customers[i * customers_per_truck:(i + 1) * customers_per_truck])\n",
    "        truck_routes.append(0)\n",
    "    truck_routes.extend(child_customers[(n_trucks - 1) * customers_per_truck:])\n",
    "    truck_routes.append(0)\n",
    "    \n",
    "    drone_assignment = [0] * len(parent1.drone_assignment)\n",
    "    for i in range(len(drone_assignment)):\n",
    "        drone_assignment[i] = random.choice([parent1.drone_assignment[i], parent2.drone_assignment[i]])\n",
    "    \n",
    "    return Chromosome(truck_routes, drone_assignment)\n",
    "\n",
    "# Swap Mutation\n",
    "def swap_mutation(chromosome):\n",
    "    customers = [x for x in chromosome.truck_routes if x != 0]\n",
    "    if len(customers) < 2:\n",
    "        return chromosome\n",
    "    i, j = random.sample(range(len(customers)), 2)\n",
    "    customers[i], customers[j] = customers[j], customers[i]\n",
    "    \n",
    "    truck_routes = [0]\n",
    "    n_trucks = chromosome.truck_routes.count(0) - 1\n",
    "    customers_per_truck = len(customers) // n_trucks\n",
    "    for k in range(n_trucks - 1):\n",
    "        truck_routes.extend(customers[k * customers_per_truck:(k + 1) * customers_per_truck])\n",
    "        truck_routes.append(0)\n",
    "    truck_routes.extend(customers[(n_trucks - 1) * customers_per_truck:])\n",
    "    truck_routes.append(0)\n",
    "    \n",
    "    drone_assignment = chromosome.drone_assignment.copy()\n",
    "    if random.random() < 0.1:  # Xác suất đột biến drone_assignment\n",
    "        idx = random.randint(1, len(drone_assignment) - 1)\n",
    "        drone_assignment[idx] = 1 - drone_assignment[idx]\n",
    "    \n",
    "    return Chromosome(truck_routes, drone_assignment)\n",
    "\n",
    "# Tchebycheff Aggregation\n",
    "def tchebycheff(chromosome, weight, z, x_coords, y_coords, v_truck, v_drone, service_time, n_trucks, time_windows, demands, Q):\n",
    "    makespan, truck_dist, drone_dist, avg_sat = evaluate_objectives(chromosome, x_coords, y_coords, v_truck, v_drone, service_time, n_trucks, time_windows, demands, Q)\n",
    "    # Chuyển mức độ hài lòng thành tối thiểu hóa (1 - avg_sat)\n",
    "    objectives = [makespan, truck_dist, drone_dist, 1 - avg_sat]\n",
    "    return max(weight[i] * abs(objectives[i] - z[i]) for i in range(4))\n",
    "\n",
    "# MOEA/D\n",
    "def moead(x_coords, y_coords, v_truck, v_drone, service_time, n_trucks, time_windows, demands, Q=1000, pop_size=100, generations=50):\n",
    "    n_objectives = 4\n",
    "    population = [initialize_chromosome(n_points, n_trucks, drone_serve) for _ in range(pop_size)]\n",
    "    \n",
    "    # Khởi tạo trọng số\n",
    "    weights = []\n",
    "    for i in range(pop_size):\n",
    "        w = np.random.dirichlet(np.ones(n_objectives), size=1)[0]\n",
    "        weights.append(w)\n",
    "    \n",
    "    # Tìm láng giềng cho mỗi bài toán con\n",
    "    B = []\n",
    "    for i in range(pop_size):\n",
    "        distances = [np.linalg.norm(weights[i] - weights[j]) for j in range(pop_size)]\n",
    "        B.append(np.argsort(distances)[:10].tolist())  # 10 láng giềng gần nhất\n",
    "    \n",
    "    # Giá trị lý tưởng (z)\n",
    "    z = [float('inf')] * n_objectives  # Tối thiểu hóa\n",
    "    for ind in population:\n",
    "        makespan, truck_dist, drone_dist, avg_sat = evaluate_objectives(ind, x_coords, y_coords, v_truck, v_drone, service_time, n_trucks, time_windows, demands, Q)\n",
    "        z[0] = min(z[0], makespan)\n",
    "        z[1] = min(z[1], truck_dist)\n",
    "        z[2] = min(z[2], drone_dist)\n",
    "        z[3] = min(z[3], 1 - avg_sat)  # Tối thiểu hóa 1 - avg_sat\n",
    "    \n",
    "    # Vòng lặp chính\n",
    "    for gen in range(generations):\n",
    "        for i in range(pop_size):\n",
    "            # Chọn ngẫu nhiên 2 láng giềng\n",
    "            neighbors = random.sample(B[i], 2)\n",
    "            parent1, parent2 = population[neighbors[0]], population[neighbors[1]]\n",
    "            \n",
    "            # Tạo cá thể mới\n",
    "            child = order_crossover(parent1, parent2)\n",
    "            child = swap_mutation(child)\n",
    "            \n",
    "            # Đánh giá và cập nhật z\n",
    "            makespan, truck_dist, drone_dist, avg_sat = evaluate_objectives(child, x_coords, y_coords, v_truck, v_drone, service_time, n_trucks, time_windows, demands, Q)\n",
    "            z[0] = min(z[0], makespan)\n",
    "            z[1] = min(z[1], truck_dist)\n",
    "            z[2] = min(z[2], drone_dist)\n",
    "            z[3] = min(z[3], 1 - avg_sat)\n",
    "            \n",
    "            # Cập nhật láng giềng\n",
    "            for j in B[i]:\n",
    "                if tchebycheff(child, weights[j], z, x_coords, y_coords, v_truck, v_drone, service_time, n_trucks, time_windows, demands, Q) < \\\n",
    "                   tchebycheff(population[j], weights[j], z, x_coords, y_coords, v_truck, v_drone, service_time, n_trucks, time_windows, demands, Q):\n",
    "                    population[j] = child\n",
    "        \n",
    "        print(f\"Thế hệ {gen + 1}/{generations} hoàn tất.\")\n",
    "    \n",
    "    # Trả về tập Pareto\n",
    "    pareto_front = []\n",
    "    for ind in population:\n",
    "        objectives = evaluate_objectives(ind, x_coords, y_coords, v_truck, v_drone, service_time, n_trucks, time_windows, demands, Q)\n",
    "        pareto_front.append((ind, objectives))\n",
    "    \n",
    "    return pareto_front"
   ]
  },
  {
   "cell_type": "markdown",
   "metadata": {},
   "source": [
    "# execute"
   ]
  },
  {
   "cell_type": "code",
   "execution_count": 8,
   "metadata": {},
   "outputs": [
    {
     "ename": "TypeError",
     "evalue": "evaluate_objectives() takes 8 positional arguments but 10 were given",
     "output_type": "error",
     "traceback": [
      "\u001b[31m---------------------------------------------------------------------------\u001b[39m",
      "\u001b[31mTypeError\u001b[39m                                 Traceback (most recent call last)",
      "\u001b[36mCell\u001b[39m\u001b[36m \u001b[39m\u001b[32mIn[8]\u001b[39m\u001b[32m, line 1\u001b[39m\n\u001b[32m----> \u001b[39m\u001b[32m1\u001b[39m pareto_front = \u001b[43mmoead\u001b[49m\u001b[43m(\u001b[49m\u001b[43mx_coords\u001b[49m\u001b[43m,\u001b[49m\u001b[43m \u001b[49m\u001b[43my_coords\u001b[49m\u001b[43m,\u001b[49m\u001b[43m \u001b[49m\u001b[32;43m40\u001b[39;49m\u001b[43m,\u001b[49m\u001b[43m \u001b[49m\u001b[32;43m80\u001b[39;49m\u001b[43m,\u001b[49m\u001b[43m \u001b[49m\u001b[43mservice_time\u001b[49m\u001b[43m,\u001b[49m\u001b[43m \u001b[49m\u001b[43mn_trucks\u001b[49m\u001b[43m,\u001b[49m\u001b[43m \u001b[49m\u001b[43mtime_windows\u001b[49m\u001b[43m,\u001b[49m\u001b[43m \u001b[49m\u001b[43mdemands\u001b[49m\u001b[43m,\u001b[49m\u001b[43m \u001b[49m\u001b[32;43m1000\u001b[39;49m\u001b[43m,\u001b[49m\u001b[43m \u001b[49m\u001b[43mpop_size\u001b[49m\u001b[43m=\u001b[49m\u001b[32;43m50\u001b[39;49m\u001b[43m,\u001b[49m\u001b[43m \u001b[49m\u001b[43mgenerations\u001b[49m\u001b[43m=\u001b[49m\u001b[32;43m20\u001b[39;49m\u001b[43m)\u001b[49m\n",
      "\u001b[36mCell\u001b[39m\u001b[36m \u001b[39m\u001b[32mIn[7]\u001b[39m\u001b[32m, line 85\u001b[39m, in \u001b[36mmoead\u001b[39m\u001b[34m(x_coords, y_coords, v_truck, v_drone, service_time, n_trucks, time_windows, demands, Q, pop_size, generations)\u001b[39m\n\u001b[32m     83\u001b[39m z = [\u001b[38;5;28mfloat\u001b[39m(\u001b[33m'\u001b[39m\u001b[33minf\u001b[39m\u001b[33m'\u001b[39m)] * n_objectives  \u001b[38;5;66;03m# Tối thiểu hóa\u001b[39;00m\n\u001b[32m     84\u001b[39m \u001b[38;5;28;01mfor\u001b[39;00m ind \u001b[38;5;129;01min\u001b[39;00m population:\n\u001b[32m---> \u001b[39m\u001b[32m85\u001b[39m     makespan, truck_dist, drone_dist, avg_sat = \u001b[43mevaluate_objectives\u001b[49m\u001b[43m(\u001b[49m\u001b[43mind\u001b[49m\u001b[43m,\u001b[49m\u001b[43m \u001b[49m\u001b[43mx_coords\u001b[49m\u001b[43m,\u001b[49m\u001b[43m \u001b[49m\u001b[43my_coords\u001b[49m\u001b[43m,\u001b[49m\u001b[43m \u001b[49m\u001b[43mv_truck\u001b[49m\u001b[43m,\u001b[49m\u001b[43m \u001b[49m\u001b[43mv_drone\u001b[49m\u001b[43m,\u001b[49m\u001b[43m \u001b[49m\u001b[43mservice_time\u001b[49m\u001b[43m,\u001b[49m\u001b[43m \u001b[49m\u001b[43mn_trucks\u001b[49m\u001b[43m,\u001b[49m\u001b[43m \u001b[49m\u001b[43mtime_windows\u001b[49m\u001b[43m,\u001b[49m\u001b[43m \u001b[49m\u001b[43mdemands\u001b[49m\u001b[43m,\u001b[49m\u001b[43m \u001b[49m\u001b[43mQ\u001b[49m\u001b[43m)\u001b[49m\n\u001b[32m     86\u001b[39m     z[\u001b[32m0\u001b[39m] = \u001b[38;5;28mmin\u001b[39m(z[\u001b[32m0\u001b[39m], makespan)\n\u001b[32m     87\u001b[39m     z[\u001b[32m1\u001b[39m] = \u001b[38;5;28mmin\u001b[39m(z[\u001b[32m1\u001b[39m], truck_dist)\n",
      "\u001b[31mTypeError\u001b[39m: evaluate_objectives() takes 8 positional arguments but 10 were given"
     ]
    }
   ],
   "source": [
    "pareto_front = moead(x_coords, y_coords, 40, 80, service_time, n_trucks, time_windows, demands, 1000, pop_size=50, generations=20)"
   ]
  },
  {
   "cell_type": "code",
   "execution_count": null,
   "metadata": {},
   "outputs": [],
   "source": []
  }
 ],
 "metadata": {
  "kernelspec": {
   "display_name": "Python 3",
   "language": "python",
   "name": "python3"
  },
  "language_info": {
   "codemirror_mode": {
    "name": "ipython",
    "version": 3
   },
   "file_extension": ".py",
   "mimetype": "text/x-python",
   "name": "python",
   "nbconvert_exporter": "python",
   "pygments_lexer": "ipython3",
   "version": "3.13.2"
  }
 },
 "nbformat": 4,
 "nbformat_minor": 2
}
