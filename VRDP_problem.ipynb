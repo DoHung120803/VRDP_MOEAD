{
 "cells": [
  {
   "cell_type": "markdown",
   "metadata": {},
   "source": [
    "# Đọc input đầu vào"
   ]
  },
  {
   "cell_type": "code",
   "execution_count": 1,
   "metadata": {},
   "outputs": [],
   "source": [
    "import pandas as pd\n",
    "\n",
    "# Đọc dữ liệu từ file Excel\n",
    "file_path = \"C://Users//Computer//AppData//Local//Temp//Rar$DIa0.358//h100r202.csv\"  # Thay bằng đường dẫn file thực tế\n",
    "df = pd.read_csv(file_path)\n",
    "\n",
    "# Lưu từng cột vào danh sách riêng biệt\n",
    "x_coords = df[\"x\"].tolist()  # Danh sách tọa độ x\n",
    "y_coords = df[\"y\"].tolist()  # Danh sách tọa độ y\n",
    "demands = df[\"demand\"].tolist()  # Nhu cầu hàng hóa\n",
    "eet = df[\"eet\"].tolist()  # Earliest End Time\n",
    "open_time = df[\"open\"].tolist()  # Giờ mở cửa\n",
    "close_time = df[\"close\"].tolist()  # Giờ đóng cửa\n",
    "elt = df[\"elt\"].tolist()  # Earliest Latest Time\n",
    "service_time = df[\"servicetime\"].tolist()  # Thời gian phục vụ\n",
    "drone_serve = df[\"drone_serve\"].tolist()  # Cờ có thể dùng drone\n",
    "\n"
   ]
  }
 ],
 "metadata": {
  "kernelspec": {
   "display_name": "Python 3",
   "language": "python",
   "name": "python3"
  },
  "language_info": {
   "codemirror_mode": {
    "name": "ipython",
    "version": 3
   },
   "file_extension": ".py",
   "mimetype": "text/x-python",
   "name": "python",
   "nbconvert_exporter": "python",
   "pygments_lexer": "ipython3",
   "version": "3.12.5"
  }
 },
 "nbformat": 4,
 "nbformat_minor": 2
}
